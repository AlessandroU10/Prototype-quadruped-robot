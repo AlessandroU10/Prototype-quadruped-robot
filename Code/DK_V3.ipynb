{
 "cells": [
  {
   "cell_type": "code",
   "execution_count": 2,
   "metadata": {},
   "outputs": [
    {
     "name": "stderr",
     "output_type": "stream",
     "text": [
      "\n",
      "[notice] A new release of pip is available: 23.0.1 -> 24.3.1\n",
      "[notice] To update, run: python.exe -m pip install --upgrade pip\n"
     ]
    },
    {
     "name": "stdout",
     "output_type": "stream",
     "text": [
      "Requirement already satisfied: sympy in c:\\programs\\python3.9\\lib\\site-packages (1.13.2)\n",
      "Requirement already satisfied: mpmath<1.4,>=1.1.0 in c:\\programs\\python3.9\\lib\\site-packages (from sympy) (1.3.0)\n"
     ]
    },
    {
     "data": {
      "text/latex": [
       "$\\displaystyle \\left[\\begin{matrix}25.06\\\\-112.782058685375\\\\125.359198641864\\end{matrix}\\right]$"
      ],
      "text/plain": [
       "Matrix([\n",
       "[            25.06],\n",
       "[-112.782058685375],\n",
       "[ 125.359198641864]])"
      ]
     },
     "execution_count": 2,
     "metadata": {},
     "output_type": "execute_result"
    }
   ],
   "source": [
    "!pip install sympy\n",
    "import sympy as sp \n",
    "\n",
    "q1, q2, q3, l1, l2, l3, a, b, c, d, e = sp.symbols(\"q1 q2 q3 l1 l2 l3 a b c d e\")\n",
    "q = [q1, q2, q3]\n",
    "\n",
    "variable ={\n",
    "    q1: sp.rad(0), \n",
    "    q2: sp.rad(-45),\n",
    "    q3: sp.rad(0), \n",
    "    l1: 22.93,\n",
    "    l2: 64.49,\n",
    "    l3: 70.54,\n",
    "    a: 17.66,\n",
    "    b: 24.25,\n",
    "    c: 6.9,\n",
    "    d: 0.5,\n",
    "    e: 7.96,\n",
    "}\n",
    "\n",
    "def rotationX(q):\n",
    "  return sp.Matrix([[1, 0, 0],\n",
    "                   [0, sp.cos(q), -sp.sin(q)],\n",
    "                   [0, sp.sin(q), sp.cos(q)]])\n",
    "def rotationY(q):\n",
    "  return sp.Matrix([[sp.cos(q), 0, sp.sin(q)],\n",
    "                   [0, 1, 0],\n",
    "                   [-sp.sin(q), 0, sp.cos(q)]])\n",
    "def rotationZ(q):\n",
    "  return sp.Matrix([[sp.cos(q),-sp.sin(q), 0],\n",
    "                   [sp.sin(q),sp.cos(q) , 0],\n",
    "                   [0, 0, 1]])\n",
    "def vector(x, y, z):\n",
    "  return sp.Matrix([[x],[y],[z]])\n",
    "\n",
    "def T(C, vector):\n",
    "  return C.row_join(vector).col_join(sp.Matrix([[0,0,0,1]]))\n",
    "\n",
    "CI0 = rotationZ(q1)\n",
    "C01 = rotationX(q2)\n",
    "C12 = rotationX(-q3)\n",
    "C2F = sp.eye(3)\n",
    "\n",
    "rI0 = vector(0, 0, 0)\n",
    "r01 = vector(a, -l1, b)\n",
    "r12 = vector(c, -l2, 0)\n",
    "r2F = vector(d, -l3, e)\n",
    "\n",
    "TI0 = T(CI0, rI0)\n",
    "T01 = T(C01, r01)\n",
    "T12 = T(C12, r12)\n",
    "T2F = T(C2F, r2F) \n",
    "\n",
    "TIF = sp.simplify(TI0*T01*T12*T2F)\n",
    "\n",
    "rIF = TIF[:3, 3]\n",
    "r_var = (rIF.subs(variable)).evalf()\n",
    "r_var"
   ]
  },
  {
   "cell_type": "code",
   "execution_count": 19,
   "metadata": {},
   "outputs": [
    {
     "data": {
      "text/latex": [
       "$\\displaystyle \\left[\\begin{matrix}a \\cos{\\left(q_{1} \\right)} + c \\cos{\\left(q_{1} \\right)} + d \\cos{\\left(q_{1} \\right)} + e \\sin{\\left(q_{1} \\right)} \\sin{\\left(q_{2} - q_{3} \\right)} + l_{1} \\sin{\\left(q_{1} \\right)} + l_{2} \\sin{\\left(q_{1} \\right)} \\cos{\\left(q_{2} \\right)} + l_{3} \\sin{\\left(q_{1} \\right)} \\cos{\\left(q_{2} - q_{3} \\right)}\\\\a \\sin{\\left(q_{1} \\right)} + c \\sin{\\left(q_{1} \\right)} + d \\sin{\\left(q_{1} \\right)} - e \\sin{\\left(q_{2} - q_{3} \\right)} \\cos{\\left(q_{1} \\right)} - l_{1} \\cos{\\left(q_{1} \\right)} - l_{2} \\cos{\\left(q_{1} \\right)} \\cos{\\left(q_{2} \\right)} - l_{3} \\cos{\\left(q_{1} \\right)} \\cos{\\left(q_{2} - q_{3} \\right)}\\\\b + e \\cos{\\left(q_{2} - q_{3} \\right)} - l_{2} \\sin{\\left(q_{2} \\right)} - l_{3} \\sin{\\left(q_{2} - q_{3} \\right)}\\end{matrix}\\right]$"
      ],
      "text/plain": [
       "Matrix([\n",
       "[a*cos(q1) + c*cos(q1) + d*cos(q1) + e*sin(q1)*sin(q2 - q3) + l1*sin(q1) + l2*sin(q1)*cos(q2) + l3*sin(q1)*cos(q2 - q3)],\n",
       "[a*sin(q1) + c*sin(q1) + d*sin(q1) - e*sin(q2 - q3)*cos(q1) - l1*cos(q1) - l2*cos(q1)*cos(q2) - l3*cos(q1)*cos(q2 - q3)],\n",
       "[                                                                     b + e*cos(q2 - q3) - l2*sin(q2) - l3*sin(q2 - q3)]])"
      ]
     },
     "execution_count": 19,
     "metadata": {},
     "output_type": "execute_result"
    }
   ],
   "source": [
    "rIF"
   ]
  },
  {
   "cell_type": "code",
   "execution_count": 21,
   "metadata": {},
   "outputs": [
    {
     "data": {
      "text/latex": [
       "$\\displaystyle \\left[\\begin{matrix}\\cos{\\left(q_{1} \\right)} & - \\sin{\\left(q_{1} \\right)} \\cos{\\left(q_{2} - q_{3} \\right)} & \\sin{\\left(q_{1} \\right)} \\sin{\\left(q_{2} - q_{3} \\right)} & a \\cos{\\left(q_{1} \\right)} + c \\cos{\\left(q_{1} \\right)} + d \\cos{\\left(q_{1} \\right)} + e \\sin{\\left(q_{1} \\right)} \\sin{\\left(q_{2} - q_{3} \\right)} + l_{1} \\sin{\\left(q_{1} \\right)} + l_{2} \\sin{\\left(q_{1} \\right)} \\cos{\\left(q_{2} \\right)} + l_{3} \\sin{\\left(q_{1} \\right)} \\cos{\\left(q_{2} - q_{3} \\right)}\\\\\\sin{\\left(q_{1} \\right)} & \\cos{\\left(q_{1} \\right)} \\cos{\\left(q_{2} - q_{3} \\right)} & - \\sin{\\left(q_{2} - q_{3} \\right)} \\cos{\\left(q_{1} \\right)} & a \\sin{\\left(q_{1} \\right)} + c \\sin{\\left(q_{1} \\right)} + d \\sin{\\left(q_{1} \\right)} - e \\sin{\\left(q_{2} - q_{3} \\right)} \\cos{\\left(q_{1} \\right)} - l_{1} \\cos{\\left(q_{1} \\right)} - l_{2} \\cos{\\left(q_{1} \\right)} \\cos{\\left(q_{2} \\right)} - l_{3} \\cos{\\left(q_{1} \\right)} \\cos{\\left(q_{2} - q_{3} \\right)}\\\\0 & \\sin{\\left(q_{2} - q_{3} \\right)} & \\cos{\\left(q_{2} - q_{3} \\right)} & b + e \\cos{\\left(q_{2} - q_{3} \\right)} - l_{2} \\sin{\\left(q_{2} \\right)} - l_{3} \\sin{\\left(q_{2} - q_{3} \\right)}\\\\0 & 0 & 0 & 1\\end{matrix}\\right]$"
      ],
      "text/plain": [
       "Matrix([\n",
       "[cos(q1), -sin(q1)*cos(q2 - q3),  sin(q1)*sin(q2 - q3), a*cos(q1) + c*cos(q1) + d*cos(q1) + e*sin(q1)*sin(q2 - q3) + l1*sin(q1) + l2*sin(q1)*cos(q2) + l3*sin(q1)*cos(q2 - q3)],\n",
       "[sin(q1),  cos(q1)*cos(q2 - q3), -sin(q2 - q3)*cos(q1), a*sin(q1) + c*sin(q1) + d*sin(q1) - e*sin(q2 - q3)*cos(q1) - l1*cos(q1) - l2*cos(q1)*cos(q2) - l3*cos(q1)*cos(q2 - q3)],\n",
       "[      0,          sin(q2 - q3),          cos(q2 - q3),                                                                      b + e*cos(q2 - q3) - l2*sin(q2) - l3*sin(q2 - q3)],\n",
       "[      0,                     0,                     0,                                                                                                                      1]])"
      ]
     },
     "execution_count": 21,
     "metadata": {},
     "output_type": "execute_result"
    }
   ],
   "source": [
    "TIF"
   ]
  }
 ],
 "metadata": {
  "colab": {
   "provenance": []
  },
  "kernelspec": {
   "display_name": "Python 3",
   "name": "python3"
  },
  "language_info": {
   "codemirror_mode": {
    "name": "ipython",
    "version": 3
   },
   "file_extension": ".py",
   "mimetype": "text/x-python",
   "name": "python",
   "nbconvert_exporter": "python",
   "pygments_lexer": "ipython3",
   "version": "3.9.17"
  }
 },
 "nbformat": 4,
 "nbformat_minor": 0
}
