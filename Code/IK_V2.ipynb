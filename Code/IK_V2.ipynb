{
 "cells": [
  {
   "cell_type": "code",
   "execution_count": 2,
   "metadata": {},
   "outputs": [
    {
     "name": "stdout",
     "output_type": "stream",
     "text": [
      "Requirement already satisfied: sympy in c:\\programs\\python3.9\\lib\\site-packages (1.13.2)\n",
      "Requirement already satisfied: mpmath<1.4,>=1.1.0 in c:\\programs\\python3.9\\lib\\site-packages (from sympy) (1.3.0)\n"
     ]
    },
    {
     "name": "stderr",
     "output_type": "stream",
     "text": [
      "\n",
      "[notice] A new release of pip is available: 23.0.1 -> 24.3.1\n",
      "[notice] To update, run: python.exe -m pip install --upgrade pip\n"
     ]
    }
   ],
   "source": [
    "!pip install sympy\n",
    "import sympy as sp "
   ]
  },
  {
   "cell_type": "code",
   "execution_count": 1,
   "metadata": {},
   "outputs": [
    {
     "name": "stderr",
     "output_type": "stream",
     "text": [
      "\n",
      "[notice] A new release of pip is available: 23.0.1 -> 24.3.1\n",
      "[notice] To update, run: python.exe -m pip install --upgrade pip\n"
     ]
    },
    {
     "name": "stdout",
     "output_type": "stream",
     "text": [
      "Requirement already satisfied: sympy in c:\\programs\\python3.9\\lib\\site-packages (1.13.2)\n",
      "Requirement already satisfied: mpmath<1.4,>=1.1.0 in c:\\programs\\python3.9\\lib\\site-packages (from sympy) (1.3.0)\n"
     ]
    },
    {
     "data": {
      "text/latex": [
       "$\\displaystyle \\left[\\begin{matrix}25.06\\\\-139.07131631872\\\\-13.3913163187204\\end{matrix}\\right]$"
      ],
      "text/plain": [
       "Matrix([\n",
       "[            25.06],\n",
       "[ -139.07131631872],\n",
       "[-13.3913163187204]])"
      ]
     },
     "execution_count": 1,
     "metadata": {},
     "output_type": "execute_result"
    }
   ],
   "source": [
    "!pip install sympy\n",
    "import sympy as sp \n",
    "\n",
    "q1, q2, q3, l1, l2, l3, a, b, c, d, e = sp.symbols(\"q1 q2 q3 l1 l2 l3 a b c d e\")\n",
    "q = [q1, q2, q3]\n",
    "\n",
    "variable ={\n",
    "    q1: sp.rad(0), \n",
    "    q2: sp.rad(45),\n",
    "    q3: sp.rad(45), \n",
    "    l1: 22.93,\n",
    "    l2: 64.49,\n",
    "    l3: 70.54,\n",
    "    a: 17.66,\n",
    "    b: 24.25,\n",
    "    c: 6.9,\n",
    "    d: 0.5,\n",
    "    e: 7.96,\n",
    "}\n",
    "\n",
    "def rotationX(q):\n",
    "  return sp.Matrix([[1, 0, 0],\n",
    "                   [0, sp.cos(q), -sp.sin(q)],\n",
    "                   [0, sp.sin(q), sp.cos(q)]])\n",
    "def rotationY(q):\n",
    "  return sp.Matrix([[sp.cos(q), 0, sp.sin(q)],\n",
    "                   [0, 1, 0],\n",
    "                   [-sp.sin(q), 0, sp.cos(q)]])\n",
    "def rotationZ(q):\n",
    "  return sp.Matrix([[sp.cos(q),-sp.sin(q), 0],\n",
    "                   [sp.sin(q),sp.cos(q) , 0],\n",
    "                   [0, 0, 1]])\n",
    "def vector(x, y, z):\n",
    "  return sp.Matrix([[x],[y],[z]])\n",
    "\n",
    "def T(C, vector):\n",
    "  return C.row_join(vector).col_join(sp.Matrix([[0,0,0,1]]))\n",
    "\n",
    "CI0 = rotationZ(q1)\n",
    "C01 = rotationX(q2)\n",
    "C12 = rotationX(-q3)\n",
    "C2F = sp.eye(3)\n",
    "\n",
    "rI0 = vector(0, 0, 0)\n",
    "r01 = vector(a, -l1, b)\n",
    "r12 = vector(c, -l2, 0)\n",
    "r2F = vector(d, -l3, e)\n",
    "\n",
    "TI0 = T(CI0, rI0)\n",
    "T01 = T(C01, r01)\n",
    "T12 = T(C12, r12)\n",
    "T2F = T(C2F, r2F) \n",
    "\n",
    "TIF = sp.simplify(TI0*T01*T12*T2F)\n",
    "\n",
    "rIF = TIF[:3, 3]\n",
    "r_var = (rIF.subs(variable)).evalf()\n",
    "r_var"
   ]
  },
  {
   "cell_type": "code",
   "execution_count": 11,
   "metadata": {},
   "outputs": [
    {
     "data": {
      "text/latex": [
       "$\\displaystyle \\left[\\begin{matrix}2.96628999501947\\\\1.42763131122905\\\\1.88888676341642\\end{matrix}\\right]$"
      ],
      "text/plain": [
       "Matrix([\n",
       "[2.96628999501947],\n",
       "[1.42763131122905],\n",
       "[1.88888676341642]])"
      ]
     },
     "execution_count": 11,
     "metadata": {},
     "output_type": "execute_result"
    }
   ],
   "source": [
    "# Para q2 = q3 = 90 grados \n",
    "x = 25.06\n",
    "y = -139.07\n",
    "z = -13.39\n",
    "\n",
    "\n",
    "\n",
    "a = 17.66\n",
    "l2 = 64.86\n",
    "l3 = 70.99\n",
    "d = x - a\n",
    "n = sp.Pow(y + 22.93, 2) + sp.Pow(d, 2)\n",
    "\n",
    "\n",
    "# Cálculo de L\n",
    "L = sp.Pow(x, 2) + sp.Pow(z - 24.25, 2) + sp.Pow(y + 22.93, 2)\n",
    "\n",
    "\n",
    "\n",
    "IK = sp.Matrix([\n",
    "    [\n",
    "    sp.atan((x - 6.99 - 0.5 / y + 22.93)) + sp.acos((a / sp.sqrt(sp.Pow(x - 6.99 - 0.5, 2) + sp.Pow(y + 22.93, 2)))).evalf()\n",
    "    ],  \n",
    "    [\n",
    "    ((sp.pi/2) - sp.asin((z - 24.25)/(sp.sqrt(L-sp.Pow(a,2)))) - sp.acos((sp.Pow(b,2)-sp.Pow(a,2)-sp.Pow(c,2)+L)/(2*b*sp.sqrt(L-sp.Pow(a,2))))).evalf()\n",
    "    ],  \n",
    "    [\n",
    "    sp.acos((sp.Pow(z - 24.25, 2) + sp.Pow(l2, 2) + sp.Pow(l3, 2) - n) / (2 * l2 * l3)).evalf()\n",
    "     ]\n",
    "])\n",
    "\n",
    "IK\n"
   ]
  },
  {
   "cell_type": "code",
   "execution_count": 8,
   "metadata": {},
   "outputs": [
    {
     "name": "stdout",
     "output_type": "stream",
     "text": [
      "\n",
      "Matrix in degrees:\n",
      "⎡169.955897526497⎤\n",
      "⎢                ⎥\n",
      "⎢81.7972488341521⎥\n",
      "⎢                ⎥\n",
      "⎣108.225239521887⎦\n"
     ]
    }
   ],
   "source": [
    "import sympy as sp\n",
    "import math\n",
    "\n",
    "def radians_to_degrees(matrix):\n",
    "    return matrix.applyfunc(lambda angle: math.degrees(angle.evalf()) if angle.is_real else angle)\n",
    "\n",
    "IK_degrees = radians_to_degrees(IK)\n",
    "print(\"\\nMatrix in degrees:\")\n",
    "sp.pprint(IK_degrees)"
   ]
  },
  {
   "cell_type": "code",
   "execution_count": null,
   "metadata": {},
   "outputs": [],
   "source": [
    "# q2 =  90 grados y q3 = 0 grados\n",
    "x = 25.06\n",
    "y = -30.89\n",
    "z = -110.78\n",
    "\n",
    "# Para q2 = q3 = 90 grados \n",
    "x = 25.06\n",
    "y = -93.47\n",
    "z = -32.28\n",
    "    \n",
    "# q2 =  45 grados y q3 = 0 grados\n",
    "x = 25.06\n",
    "y = -124.039\n",
    "z = -65.602\n",
    "\n",
    "# q2 = -90 grados y q3 = 0 grados\n",
    "x = 25.06\n",
    "y = -14.97\n",
    "z = 159.28\n",
    "\n",
    "# q2 =  0 grados y q3 = -90 grados\n",
    "x = 25.06\n",
    "y = -95.38\n",
    "z = -46.29\n",
    "\n",
    "# q2 =  0 grados y q3 = 90 grados\n",
    "x = 25.06\n",
    "y = -79.46\n",
    "z = 94.79\n",
    "\n",
    "# # q2 =  q3 = 0 grados\n",
    "x = 25.06\n",
    "y = -157.96\n",
    "z = 32.21"
   ]
  }
 ],
 "metadata": {
  "kernelspec": {
   "display_name": "Python 3",
   "language": "python",
   "name": "python3"
  },
  "language_info": {
   "codemirror_mode": {
    "name": "ipython",
    "version": 3
   },
   "file_extension": ".py",
   "mimetype": "text/x-python",
   "name": "python",
   "nbconvert_exporter": "python",
   "pygments_lexer": "ipython3",
   "version": "3.9.17"
  }
 },
 "nbformat": 4,
 "nbformat_minor": 2
}
