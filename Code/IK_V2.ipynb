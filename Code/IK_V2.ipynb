{
 "cells": [
  {
   "cell_type": "code",
   "execution_count": 2,
   "metadata": {},
   "outputs": [
    {
     "name": "stdout",
     "output_type": "stream",
     "text": [
      "Requirement already satisfied: sympy in c:\\programs\\python3.9\\lib\\site-packages (1.13.2)\n",
      "Requirement already satisfied: mpmath<1.4,>=1.1.0 in c:\\programs\\python3.9\\lib\\site-packages (from sympy) (1.3.0)\n"
     ]
    },
    {
     "name": "stderr",
     "output_type": "stream",
     "text": [
      "\n",
      "[notice] A new release of pip is available: 23.0.1 -> 24.3.1\n",
      "[notice] To update, run: python.exe -m pip install --upgrade pip\n"
     ]
    }
   ],
   "source": [
    "!pip install sympy\n",
    "import sympy as sp "
   ]
  },
  {
   "cell_type": "code",
   "execution_count": 3,
   "metadata": {},
   "outputs": [
    {
     "ename": "NameError",
     "evalue": "name 'a' is not defined",
     "output_type": "error",
     "traceback": [
      "\u001b[1;31m---------------------------------------------------------------------------\u001b[0m",
      "\u001b[1;31mNameError\u001b[0m                                 Traceback (most recent call last)",
      "Cell \u001b[1;32mIn[3], line 33\u001b[0m\n\u001b[0;32m     30\u001b[0m C2F \u001b[38;5;241m=\u001b[39m sp\u001b[38;5;241m.\u001b[39meye(\u001b[38;5;241m3\u001b[39m)\n\u001b[0;32m     32\u001b[0m rI0 \u001b[38;5;241m=\u001b[39m vector(\u001b[38;5;241m0\u001b[39m, \u001b[38;5;241m0\u001b[39m, \u001b[38;5;241m0\u001b[39m)\n\u001b[1;32m---> 33\u001b[0m r01 \u001b[38;5;241m=\u001b[39m vector(\u001b[43ma\u001b[49m, \u001b[38;5;241m-\u001b[39m\u001b[38;5;241m22.93\u001b[39m, \u001b[38;5;241m24.25\u001b[39m)\n\u001b[0;32m     34\u001b[0m r12 \u001b[38;5;241m=\u001b[39m vector(\u001b[38;5;241m6.9\u001b[39m, \u001b[38;5;241m-\u001b[39m\u001b[38;5;241m64.49\u001b[39m, \u001b[38;5;241m0\u001b[39m)\n\u001b[0;32m     35\u001b[0m r2F \u001b[38;5;241m=\u001b[39m vector(\u001b[38;5;241m0.5\u001b[39m, \u001b[38;5;241m-\u001b[39m\u001b[38;5;241m70.54\u001b[39m, \u001b[38;5;241m7.96\u001b[39m)\n",
      "\u001b[1;31mNameError\u001b[0m: name 'a' is not defined"
     ]
    }
   ],
   "source": [
    "q1, q2, q3, l1, b, c = sp.symbols(\"q1 q2 q3 l1 b c\")\n",
    "q = [q1, q2, q3]\n",
    "variable ={\n",
    "    q1: sp.rad(0), \n",
    "    q2: sp.rad(0),\n",
    "    q3: sp.rad(0), \n",
    "}\n",
    "\n",
    "def rotationX(q):\n",
    "  return sp.Matrix([[1, 0, 0],\n",
    "                   [0, sp.cos(q), -sp.sin(q)],\n",
    "                   [0, sp.sin(q), sp.cos(q)]])\n",
    "def rotationY(q):\n",
    "  return sp.Matrix([[sp.cos(q), 0, sp.sin(q)],\n",
    "                   [0, 1, 0],\n",
    "                   [-sp.sin(q), 0, sp.cos(q)]])\n",
    "def rotationZ(q):\n",
    "  return sp.Matrix([[sp.cos(q),-sp.sin(q), 0],\n",
    "                   [sp.sin(q),sp.cos(q) , 0],\n",
    "                   [0, 0, 1]])\n",
    "def vector(x, y, z):\n",
    "  return sp.Matrix([[x],[y],[z]])\n",
    "\n",
    "def T(C, vector):\n",
    "  return C.row_join(vector).col_join(sp.Matrix([[0,0,0,1]]))\n",
    "\n",
    "CI0 = rotationZ(q1)\n",
    "C01 = rotationX(q2)\n",
    "C12 = rotationX(-q3)\n",
    "C2F = sp.eye(3)\n",
    "\n",
    "rI0 = vector(0, 0, 0)\n",
    "r01 = vector(a, -22.93, 24.25)\n",
    "r12 = vector(6.9, -64.49, 0)\n",
    "r2F = vector(0.5, -70.54, 7.96)\n",
    "\n",
    "TI0 = T(CI0, rI0)\n",
    "T01 = T(C01, r01)\n",
    "T12 = T(C12, r12)\n",
    "T2F = T(C2F, r2F) \n",
    "\n",
    "TIF = sp.simplify(TI0*T01*T12*T2F)\n",
    "\n",
    "rIF = TIF[:3, 3]\n",
    "\n",
    "r_var = (rIF.subs(variable)).evalf()\n",
    "r_var"
   ]
  },
  {
   "cell_type": "code",
   "execution_count": 11,
   "metadata": {},
   "outputs": [
    {
     "name": "stdout",
     "output_type": "stream",
     "text": [
      "Requirement already satisfied: sympy in c:\\programs\\python3.9\\lib\\site-packages (1.13.2)\n",
      "Requirement already satisfied: mpmath<1.4,>=1.1.0 in c:\\programs\\python3.9\\lib\\site-packages (from sympy) (1.3.0)\n"
     ]
    },
    {
     "name": "stderr",
     "output_type": "stream",
     "text": [
      "\n",
      "[notice] A new release of pip is available: 23.0.1 -> 24.3.1\n",
      "[notice] To update, run: python.exe -m pip install --upgrade pip\n"
     ]
    },
    {
     "data": {
      "text/latex": [
       "$\\displaystyle \\left[\\begin{matrix}2.87182313336652\\\\1.35176262217748\\\\1.4538081996738\\end{matrix}\\right]$"
      ],
      "text/plain": [
       "Matrix([\n",
       "[2.87182313336652],\n",
       "[1.35176262217748],\n",
       "[ 1.4538081996738]])"
      ]
     },
     "execution_count": 11,
     "metadata": {},
     "output_type": "execute_result"
    }
   ],
   "source": [
    "# Para q2 = q3 = 90 grados \n",
    "x = 25.06\n",
    "y = -93.47\n",
    "z = -32.28\n",
    "\n",
    "a = 17.66\n",
    "b = 64.86\n",
    "c = 70.99\n",
    "\n",
    "# Cálculo de L\n",
    "L = sp.Pow(x - 6.99 - 0.5, 2) + sp.Pow(z - 24.25, 2) + sp.Pow(y + 22.93, 2)\n",
    "\n",
    "IK = sp.Matrix([\n",
    "    [\n",
    "    sp.atan((x - 6.99 - 0.5 / y + 22.93)) + sp.acos((a / sp.sqrt(sp.Pow(x - 6.99 - 0.5, 2) + sp.Pow(y + 22.93, 2)))).evalf()\n",
    "    ],  \n",
    "    [\n",
    "    ((sp.pi/2) - sp.asin((z - 24.25)/(sp.sqrt(L-sp.Pow(a,2)))) - sp.acos((sp.Pow(b,2)-sp.Pow(a,2)-sp.Pow(c,2)+L)/(2*b*sp.sqrt(L-sp.Pow(a,2))))).evalf()\n",
    "    ],  \n",
    "    [\n",
    "    sp.acos((sp.Pow(x - 6.99 - 0.5, 2) + sp.Pow(b, 2) + sp.Pow(c, 2) - L) / (2 * b * c)).evalf()\n",
    "     ]\n",
    "])\n",
    "\n",
    "IK\n"
   ]
  },
  {
   "cell_type": "code",
   "execution_count": 4,
   "metadata": {},
   "outputs": [
    {
     "name": "stdout",
     "output_type": "stream",
     "text": [
      "\n",
      "Matrix in degrees:\n",
      "⎡164.543345049937⎤\n",
      "⎢                ⎥\n",
      "⎢77.450293154307 ⎥\n",
      "⎢                ⎥\n",
      "⎣78.565258045292 ⎦\n"
     ]
    }
   ],
   "source": [
    "import sympy as sp\n",
    "import math\n",
    "\n",
    "def radians_to_degrees(matrix):\n",
    "    return matrix.applyfunc(lambda angle: math.degrees(angle.evalf()) if angle.is_real else angle)\n",
    "\n",
    "IK_degrees = radians_to_degrees(IK)\n",
    "print(\"\\nMatrix in degrees:\")\n",
    "sp.pprint(IK_degrees)"
   ]
  },
  {
   "cell_type": "code",
   "execution_count": null,
   "metadata": {},
   "outputs": [],
   "source": [
    "# q2 =  90 grados y q3 = 0 grados\n",
    "x = 25.06\n",
    "y = -30.89\n",
    "z = -110.78\n",
    "\n",
    "# Para q2 = q3 = 90 grados \n",
    "x = 25.06\n",
    "y = -93.47\n",
    "z = -32.28\n",
    "    \n",
    "# q2 =  45 grados y q3 = 0 grados\n",
    "x = 25.06\n",
    "y = -124.039\n",
    "z = -65.602\n",
    "\n",
    "# q2 = -90 grados y q3 = 0 grados\n",
    "x = 25.06\n",
    "y = -14.97\n",
    "z = 159.28\n",
    "\n",
    "# q2 =  0 grados y q3 = -90 grados\n",
    "x = 25.06\n",
    "y = -95.38\n",
    "z = -46.29\n",
    "\n",
    "# q2 =  0 grados y q3 = 90 grados\n",
    "x = 25.06\n",
    "y = -79.46\n",
    "z = 94.79\n",
    "\n",
    "# # q2 =  q3 = 0 grados\n",
    "x = 25.06\n",
    "y = -157.96\n",
    "z = 32.21"
   ]
  }
 ],
 "metadata": {
  "kernelspec": {
   "display_name": "Python 3",
   "language": "python",
   "name": "python3"
  },
  "language_info": {
   "codemirror_mode": {
    "name": "ipython",
    "version": 3
   },
   "file_extension": ".py",
   "mimetype": "text/x-python",
   "name": "python",
   "nbconvert_exporter": "python",
   "pygments_lexer": "ipython3",
   "version": "3.9.17"
  }
 },
 "nbformat": 4,
 "nbformat_minor": 2
}
